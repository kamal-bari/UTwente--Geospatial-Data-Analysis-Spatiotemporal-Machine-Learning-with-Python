{
 "cells": [
  {
   "cell_type": "code",
   "execution_count": 5,
   "id": "7bf32c80-32df-4337-83b7-007ee3533385",
   "metadata": {},
   "outputs": [
    {
     "data": {
      "text/plain": [
       "<matplotlib.collections.PathCollection at 0x7f6070e610>"
      ]
     },
     "execution_count": 5,
     "metadata": {},
     "output_type": "execute_result"
    },
    {
     "data": {
      "image/png": "[encoded data removed]",
      "text/plain": [
       "<Figure size 432x288 with 1 Axes>"
      ]
     },
     "metadata": {
      "needs_background": "light"
     },
     "output_type": "display_data"
    }
   ],
   "source": [
    "import matplotlib.pyplot as plt\n",
    "import numpy as np\n",
    "\n",
    "# x from 0 to 30\n",
    "X = 100 * np.random.random((500, 1))-50\n",
    "\n",
    "# # y = a*x + b with noise\n",
    "# y = 0.5 * X + 1.0 + np.random.normal(size=X.shape)\n",
    "# y = y/np.max(y)\n",
    "\n",
    "# y = a*x^2 + b with noise\n",
    "y = 0.5 * X * X + 1.0 + np.random.normal(size=X.shape)\n",
    "y = y/np.max(y)\n",
    "\n",
    "plt.scatter(X, y,  color='black')"
   ]
  },
  {
   "cell_type": "code",
   "execution_count": 6,
   "id": "a551d4b5-2e97-43cc-84e2-4e0984cd12a2",
   "metadata": {},
   "outputs": [
    {
     "name": "stdout",
     "output_type": "stream",
     "text": [
      "(350, 1)\n",
      "(150, 1)\n"
     ]
    }
   ],
   "source": [
    "#Train Test Split\n",
    "from sklearn.model_selection import train_test_split\n",
    "X_train, X_test, y_train, y_test = train_test_split(X, y, test_size = 0.30)\n",
    "print(X_train.shape)\n",
    "print(X_test.shape)"
   ]
  },
  {
   "cell_type": "code",
   "execution_count": 7,
   "id": "a5ba3e30-e8dc-42a9-9540-091bc669725e",
   "metadata": {},
   "outputs": [
    {
     "data": {
      "text/plain": [
       "<matplotlib.collections.PathCollection at 0x7f5155cb80>"
      ]
     },
     "execution_count": 7,
     "metadata": {},
     "output_type": "execute_result"
    },
    {
     "data": {
      "image/png": "[encoded data removed]",
      "text/plain": [
       "<Figure size 432x288 with 1 Axes>"
      ]
     },
     "metadata": {
      "needs_background": "light"
     },
     "output_type": "display_data"
    }
   ],
   "source": [
    "from sklearn.preprocessing import StandardScaler, MinMaxScaler\n",
    "scaler = StandardScaler()\n",
    "#scaler = MinMaxScaler(feature_range=(0, 1))\n",
    "scaler.fit(X_train)\n",
    "\n",
    "X_train = scaler.transform(X_train)\n",
    "X_test = scaler.transform(X_test)\n",
    "\n",
    "plt.scatter(X_train, y_train,  color='blue')\n",
    "plt.scatter(X_test, y_test,  color='red')"
   ]
  },
  {
   "cell_type": "code",
   "execution_count": 8,
   "id": "3061d035-9f65-42f4-b1e4-572fe3c90844",
   "metadata": {},
   "outputs": [
    {
     "data": {
      "text/plain": [
       "LinearRegression()"
      ]
     },
     "execution_count": 8,
     "metadata": {},
     "output_type": "execute_result"
    }
   ],
   "source": [
    "# create a linear regression model\n",
    "from sklearn.linear_model import LinearRegression\n",
    "model = LinearRegression()\n",
    "model.fit(X_train, y_train)"
   ]
  },
  {
   "cell_type": "code",
   "execution_count": 9,
   "id": "fae513a8-fbee-4a64-8067-c0e18ddc2a51",
   "metadata": {},
   "outputs": [
    {
     "name": "stdout",
     "output_type": "stream",
     "text": [
      "MSE: 0.09\n"
     ]
    }
   ],
   "source": [
    "# predict y from the data\n",
    "y_pred = model.predict(X_test)\n",
    "\n",
    "from sklearn.metrics import mean_squared_error, r2_score\n",
    "print('MSE: %.2f'\n",
    "      % mean_squared_error(y_test, y_pred))\n",
    "\n",
    "\n"
   ]
  },
  {
   "cell_type": "code",
   "execution_count": 15,
   "id": "96dc8e71-eaff-4ae7-bc6a-3a6ffa1534a7",
   "metadata": {},
   "outputs": [
    {
     "data": {
      "text/plain": [
       "MLPRegressor(hidden_layer_sizes=(35, 15))"
      ]
     },
     "execution_count": 15,
     "metadata": {},
     "output_type": "execute_result"
    }
   ],
   "source": [
    "#MLP Training\n",
    "from sklearn.neural_network import MLPRegressor\n",
    "#mlp = MLPRegressor()\n",
    "mlp = MLPRegressor(hidden_layer_sizes=(35,15))\n",
    "mlp.fit(X_train, y_train[:,0])"
   ]
  },
  {
   "cell_type": "code",
   "execution_count": 16,
   "id": "18e0759b-fbae-4465-86dd-f8c1a4d63ba2",
   "metadata": {},
   "outputs": [
    {
     "name": "stdout",
     "output_type": "stream",
     "text": [
      "MSE-MLP: 0.00\n"
     ]
    }
   ],
   "source": [
    "#Prediction\n",
    "y_pred_MLP = mlp.predict(X_test)\n",
    "print('MSE-MLP: %.2f'\n",
    "      % mean_squared_error(y_test, y_pred_MLP))"
   ]
  },
  {
   "cell_type": "code",
   "execution_count": null,
   "id": "8976d9ea-1734-4d89-bfce-122af5a66ca0",
   "metadata": {},
   "outputs": [],
   "source": []
  }
 ],
 "metadata": {
  "kernelspec": {
   "display_name": "Python",
   "language": "python",
   "name": "python3"
  },
  "language_info": {
   "codemirror_mode": {
    "name": "ipython",
    "version": 3
   },
   "file_extension": ".py",
   "mimetype": "text/x-python",
   "name": "python",
   "nbconvert_exporter": "python",
   "pygments_lexer": "ipython3",
   "version": "3.8.10"
  }
 },
 "nbformat": 4,
 "nbformat_minor": 5
}
