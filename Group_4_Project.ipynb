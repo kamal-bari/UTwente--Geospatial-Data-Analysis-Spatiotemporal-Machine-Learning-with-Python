{
 "cells": [
  {
   "cell_type": "markdown",
   "id": "bd4a4cc5-f33e-4e5e-a3bb-49f55a0f9fb1",
   "metadata": {
    "tags": []
   },
   "source": [
    "# Title: Mapping of boro rice area in Bangladesh using supervised machine learning algorithm\n",
    "## Group # 4\n",
    "### Group Members:\n",
    "Hasan Md. Hamidur Rahman, BARC\n",
    "\n",
    "Md. Manik Sarker, DAE\n",
    "\n",
    "Marina Afroze, BARI\n",
    "\n",
    "Mst. Shamsun Naher, BARI\n"
   ]
  },
  {
   "cell_type": "markdown",
   "id": "bc39f6e4-1467-48b6-b1e0-ff5d9d1eedad",
   "metadata": {},
   "source": [
    "## 1. Introduction\n",
    "Rice is the staple food in Bangladesh. There are three rice seasons in Bangladesh namely aus, aman and boro. Among them boro is the most cultivated one and the lion share of the rice grown in boro season. The cultivation time of boro lies between mid-November to May. The rice production area mapping is a very important task in Bangladesh, as because there is no such real time rice area mapping tool in place. Therefore our objective is to mapping the boro rice area of the whole country. We have survey data of boro rice fields from different locations of the country during December 2020 to May 2021. Using high resolution Sentinel-2 images from Google Earth Engine (GEE), the boro cultivation area for the whole country is estimated. Machine learning algorithms are used for the classification of rice and non-rice area. The area estimation leads to yield estimation which plays important in policy planning, price fixing, export-import planning, crop management and planning etc. The outcome of the task will be visible in the livelihood improvement of farmers as well as the increase of the overall economy of the country."
   ]
  },
  {
   "cell_type": "markdown",
   "id": "86009162-f760-4c8b-aa50-86ddc2f72b33",
   "metadata": {},
   "source": [
    "## 2. Method\n",
    "While capturing geolocations (latitude, longitude) by handheld GPS, field photos are also taken by digital camera. A total of 305 samples were collected out of which 218 are boro rice area and 87 are non-rice area like settlements, water bodies, salt pan, crops other than rice etc. Based on the camera photo, polygons of rice fields and non-rice fields are drawn for each geolocation using Google Earth Pro. Once the polygon shape file is generated, it is our signature data from where we get the spectral band of rice and non-rice objects. The feature vector consists of the spectral bands and acquisition date of the images. We used R, G, B and NIR spectral bands.\n",
    "The remote sensing image (10 meter resolution of Sentinel-2) of all over Bangladesh was used from Google Earth Engine (GEE) during 01/12/2020 to 31/03/2021 as reference image for classification of rice/ non-rice area. The classification of rice/ non-rice fields are done using supervised machine learning algorithms such as Classification and Regression Trees (CART) and Random Forest. Initially we proposed Artificial Neural Network (ANN), but due to time constraint, we could not implement ANN. Rather we used CART and Random Forest algorithm.The process that we followed is as follows:\n",
    "\n",
    "### 2.1 Data preparation\n",
    "1. The GPS point data (KML format) captured during 01/12/2020 to 31/03/2021 is transfered to shape file\n",
    "2. From the point data, the polygon data is prepared using Google Earth Pro\n",
    "3. The polygon shape file is uploaded in GEE\n",
    "4. Sentinel-2 raster image during 01/12/2020 to 31/03/2021 for Bangladesh (ROI) is imported from GEE as reference data \n",
    "\n",
    "### 2.2 Apply CART and Random Forest Algorithm\n",
    "1. In GEE platform, apply CART and Random Forest algorithm separately on the raster image using the polygon shape file\n",
    "2. Calculate the accuracy of the individual models\n",
    "\n",
    "To complete the work, we first written code in GEE and then converted it in Python Notebook.\n",
    "\n",
    "As the target variable is rice/ non-rice category that is why, supervised classification method is chosen. 70% of the field (signature) data is used to train the model and 30% is used to test the model. Accuracy of the model is calculated after the model runs.\n",
    "The accuracy of the algorithm calculated is Overall Accuracy (OA), Producer Accuracy (PA) and Kappa.\n",
    "\n",
    "\n"
   ]
  },
  {
   "cell_type": "markdown",
   "id": "0b055a31-82cf-488c-b9d0-87f204af01e7",
   "metadata": {},
   "source": [
    "## 3. Results\n",
    "### 3.1 We observed following results after running the CART and Random Forest algorithm respectively.\n"
   ]
  },
  {
   "cell_type": "code",
   "execution_count": 37,
   "id": "8d7f297c-6682-4d76-bb09-5e45a4b9b774",
   "metadata": {},
   "outputs": [
    {
     "name": "stdout",
     "output_type": "stream",
     "text": [
      "Google Earth Engine has initialized successfully!\n"
     ]
    }
   ],
   "source": [
    "# Importing GEE libraries\n",
    "import ee\n",
    "import geemap\n",
    "\n",
    "try:\n",
    "  ee.Initialize()\n",
    "  print('Google Earth Engine has initialized successfully!')\n",
    "except ee.EEException as e:\n",
    "  print('Google Earth Engine has failed to initialize!')\n",
    "except:\n",
    "    print(\"Unexpected error:\", sys.exc_info()[0])\n",
    "    raise\n"
   ]
  },
  {
   "cell_type": "markdown",
   "id": "97d0722f-4319-4de0-b70a-7551b64401df",
   "metadata": {},
   "source": [
    "## Classification and Regression Trees (CART)"
   ]
  },
  {
   "cell_type": "code",
   "execution_count": 38,
   "id": "72c097d4-826f-44b7-92e0-d0ed1894431a",
   "metadata": {},
   "outputs": [
    {
     "name": "stdout",
     "output_type": "stream",
     "text": [
      "['OBJECTID', 'OID_', 'UniqueID', 'Crops', 'SurveyDate', 'Latitude', 'id', 'Longitude', 'Feature', 'system:index']\n",
      "{'Crops': 'Non-Rice', 'Feature': 'Orchard', 'Latitude': 24.0730552112, 'Longitude': 89.9287860076, 'OBJECTID': 1, 'OID_': 1, 'UniqueID': 300, 'id': 0, 'system:index': '00000000000000000000'}\n",
      "Confusion Matrix: [[2525, 178], [170, 722]]\n",
      "Overall Accuracy: 0.9031988873435327\n",
      "Producer Accuracy: [[0.9341472438031817], [0.8094170403587444]]\n",
      "Kappa Accuracy: 0.7413369611962024\n"
     ]
    },
    {
     "data": {
      "application/vnd.jupyter.widget-view+json": {
       "model_id": "906f441304ff46bd88355cc7b799996c",
       "version_major": 2,
       "version_minor": 0
      },
      "text/plain": [
       "Map(center=[23.845740439422947, 90.28182335177775], controls=(WidgetControl(options=['position', 'transparent_…"
      ]
     },
     "metadata": {},
     "output_type": "display_data"
    }
   ],
   "source": [
    "Map_cart = geemap.Map()\n",
    "\n",
    "countries_cart= ee.FeatureCollection('USDOS/LSIB_SIMPLE/2017')\n",
    "roi_cart= countries_cart.filter(ee.Filter.eq('country_na','Bangladesh'))\n",
    "Map_cart.addLayer(roi_cart,{},'Bangladesh')\n",
    "\n",
    "image_cart= ee.ImageCollection(\"COPERNICUS/S2_SR\") \\\n",
    "  .filterDate('2020-12-01','2021-03-31') \\\n",
    "  .filter(ee.Filter.lt('CLOUDY_PIXEL_PERCENTAGE',20)) \\\n",
    "  .filterBounds(roi_cart) \\\n",
    "  .median()\n",
    "\n",
    "vizparams_cart= {'bands':['B4', 'B3', 'B2'], 'min':0, 'max':2500, 'gamma':1.1}\n",
    "Map_cart.addLayer(image_cart.clip(roi_cart),vizparams_cart,'Sentinel-2')\n",
    "Map_cart.centerObject(roi_cart,7)\n",
    "\n",
    "\n",
    "fc_cart=ee.FeatureCollection('users/hrahman/FieldData_Rice_NonRice')\n",
    "\n",
    "\n",
    "training_cart=fc_cart\n",
    "# training= Rice.merge(NonRice)\n",
    "# print(fc_cart.getInfo())\n",
    "# print (training_cart.toDictionary().getInfo())\n",
    "\n",
    "first = training_cart.first()\n",
    "props = first.propertyNames().getInfo()\n",
    "print(props)\n",
    "values = training_cart.first().toDictionary(props).getInfo()\n",
    "print(values)\n",
    "\n",
    "\n",
    "# for i in range(10): \n",
    "#     print(values.items())\n",
    "\n",
    "\n",
    "label_cart= \"id\"\n",
    "bands_cart=['B2','B3','B4','B8']\n",
    "input= image_cart.select(bands_cart)\n",
    "\n",
    "trainingImage_cart=input.sampleRegions(**{\n",
    "   'collection':training_cart,\n",
    "   'properties':[label_cart],\n",
    "   'scale':30\n",
    " })\n",
    "\n",
    "trainingData_cart=trainingImage_cart.randomColumn()\n",
    "# print (trainingData)\n",
    "trainingSet_cart=trainingData_cart.filter(ee.Filter.lessThan('random',0.7))\n",
    "testSet_cart=trainingData_cart.filter(ee.Filter.greaterThanOrEquals('random',0.7))\n",
    "# print(trainingSet)\n",
    "# print(testSet)\n",
    "\n",
    "classifier_cart= ee.Classifier.smileCart().train(trainingSet_cart, label_cart, bands_cart)\n",
    "classified_cart=input.classify(classifier_cart)\n",
    "# print(classified)\n",
    "\n",
    "landcoverPallete_cart = [\n",
    "  '0000FF', # rice (1)  # green\n",
    "  '008000' #  non rice (0) # blue\n",
    "]\n",
    "\n",
    "Map_cart.addLayer(classified_cart.clip(roi_cart), {'palette':landcoverPallete_cart, 'min':0, 'max':1}, 'Classified Layer')\n",
    "\n",
    "confusionMatrix_cart= ee.ConfusionMatrix(testSet_cart.classify(classifier_cart)\n",
    "  .errorMatrix(**{\n",
    "    'actual':'id',\n",
    "    'predicted':'classification'\n",
    "  }))\n",
    "print('Confusion Matrix:',confusionMatrix_cart.getInfo())\n",
    "print('Overall Accuracy:',confusionMatrix_cart.accuracy().getInfo())\n",
    "print('Producer Accuracy:',confusionMatrix_cart.producersAccuracy().getInfo())\n",
    "print('Kappa Accuracy:',confusionMatrix_cart.kappa().getInfo())\n",
    "\n",
    "Map_cart\n"
   ]
  },
  {
   "cell_type": "markdown",
   "id": "fd537506-cefd-4f9a-ae88-877fbfbf7364",
   "metadata": {
    "tags": []
   },
   "source": [
    "## Random Forest"
   ]
  },
  {
   "cell_type": "code",
   "execution_count": 39,
   "id": "2d2c5fb1-cd8b-49ba-a39b-49dba5a71a4b",
   "metadata": {},
   "outputs": [],
   "source": [
    "# import geemap\n",
    "# geemap.js_snippet_to_py(js_snippet, add_new_cell=True,import_geemap=True,show_map=True)"
   ]
  },
  {
   "cell_type": "code",
   "execution_count": 40,
   "id": "8eadf6e8-1655-48e7-aae3-50b476b44f15",
   "metadata": {},
   "outputs": [
    {
     "name": "stdout",
     "output_type": "stream",
     "text": [
      "Confusion Matrix [[2685, 18], [35, 857]]\n",
      "Overall Accuracy: 0.9852573018080668\n",
      "Producer Accuracy: [[0.9933407325194229], [0.9607623318385651]]\n",
      "Kappa Accuracy: 0.9602336703632474\n"
     ]
    },
    {
     "data": {
      "application/vnd.jupyter.widget-view+json": {
       "model_id": "bd5c60cb8238458faf98bf932444aea1",
       "version_major": 2,
       "version_minor": 0
      },
      "text/plain": [
       "Map(center=[23.845740439422947, 90.28182335177775], controls=(WidgetControl(options=['position', 'transparent_…"
      ]
     },
     "metadata": {},
     "output_type": "display_data"
    }
   ],
   "source": [
    "Map_rf = geemap.Map()\n",
    "countries_rf= ee.FeatureCollection('USDOS/LSIB_SIMPLE/2017')\n",
    "roi_rf= countries_rf.filter(ee.Filter.eq('country_na','Bangladesh'))\n",
    "Map_rf.addLayer(roi_rf,{},'Bangladesh')\n",
    "\n",
    "image_rf= ee.ImageCollection(\"COPERNICUS/S2_SR\") \\\n",
    "  .filterDate('2020-12-01','2021-03-31') \\\n",
    "  .filter(ee.Filter.lt('CLOUDY_PIXEL_PERCENTAGE',20)) \\\n",
    "  .filterBounds(roi_rf) \\\n",
    "  .median()\n",
    "\n",
    "vizparams_rf= {'bands':['B4', 'B3', 'B2'], 'min':0, 'max':2500, 'gamma':1.1}\n",
    "Map_rf.addLayer(image_rf.clip(roi_rf),vizparams_rf,'Sentinel-2')\n",
    "Map_rf.centerObject(roi_rf,7)\n",
    "\n",
    "\n",
    "fc_rf=ee.FeatureCollection('users/hrahman/FieldData_Rice_NonRice')\n",
    "training_rf=fc_rf\n",
    "\n",
    "label_rf= \"id\"\n",
    "bands_rf = ['B2', 'B3', 'B4', 'B8']\n",
    "# bands = ['B2', 'B3', 'B4', 'B8']\n",
    "\n",
    "input= image_rf.select(bands_rf)\n",
    "\n",
    "trainingImage_rf=input.sampleRegions(**{\n",
    "  'collection':training_rf,\n",
    "  'properties':[label_rf],\n",
    "  'scale':30\n",
    "})\n",
    "\n",
    "trainingData_rf=trainingImage_rf.randomColumn()\n",
    "trainingSet_rf=trainingData_rf.filter(ee.Filter.lessThan('random',0.7))\n",
    "testSet_rf=trainingData_rf.filter(ee.Filter.greaterThanOrEquals('random',0.7))\n",
    "#print(trainingSet)\n",
    "#print(testSet)\n",
    "\n",
    "#ee.Classifier.smileRandomForest(numberOfTrees, variablesPerSplit, minLeafPopulation, bagFraction, maxNodes, seed)\n",
    "\n",
    "# Making a Random Forest classifier and training it.\n",
    "classifier_rf= ee.Classifier.smileRandomForest(10).train(**{\n",
    "  'features': trainingImage_rf,\n",
    "  'classProperty': 'id',\n",
    "  'inputProperties': bands_rf\n",
    "})\n",
    "classified_rf=input.classify(classifier_rf)\n",
    "#print(classified)\n",
    "\n",
    "landcoverPallete_rf = [\n",
    "  '0000FF', # rice (1)  # green\n",
    "  '008000' #  non rice (0) # blue\n",
    "]\n",
    "\n",
    "Map_rf.addLayer(classified_rf.clip(roi_rf), { 'min':0, 'max':1, 'palette':landcoverPallete_rf}, 'Classified Layer')\n",
    "\n",
    "confusionMatrix_rf= ee.ConfusionMatrix(testSet_rf.classify(classifier_rf) \\\n",
    "  .errorMatrix(**{\n",
    "    'actual':'id',\n",
    "    'predicted':'classification'\n",
    "  }))\n",
    "print('Confusion Matrix',confusionMatrix_rf.getInfo())\n",
    "print('Overall Accuracy:',confusionMatrix_rf.accuracy().getInfo())\n",
    "print('Producer Accuracy:',confusionMatrix_rf.producersAccuracy().getInfo())\n",
    "print('Kappa Accuracy:',confusionMatrix_rf.kappa().getInfo())\n",
    "Map_rf\n"
   ]
  },
  {
   "cell_type": "markdown",
   "id": "d6c13b80-17ec-4654-8fb6-152d66e02552",
   "metadata": {},
   "source": [
    "### 3.2 Discussion and interpretation of the results\n",
    "For CART algorithm, we got 90.3% overall accuracy whereas for Random Forest we got 98.5% accuracy. From the output map also we observe the similar reflection that the random forest algorithm delineates the boro rice area more accurately. We got this result using 70% data for training and 30% for testing for both of the models. We ran the model using 80-20 ratio and observed slightly more accuracy for both algorithms. If we look other accuracy measurements like producer accuracy and kappa accuracy, then also it is clear that the random forest algorithm delineates boro rice area more accurately. However if more samples with non-rice area could be used, the model accuracy would be higher than the present. The different measurements of model output are as follows: \n",
    "\n",
    "#### Accuracy measurement of CART\n",
    "Confusion Matrix: [2525, 178], [170, 722]\n",
    "\n",
    "Overall Accuracy: 0.9031988873435327\n",
    "\n",
    "Producer Accuracy: [0.9341472438031817], [0.8094170403587444]\n",
    "\n",
    "Kappa Accuracy: 0.7413369611962024\n",
    "\n",
    "#### Accuracy measurement of Random Forest\n",
    "Confusion Matrix [2685, 18], [35, 857]\n",
    "\n",
    "Overall Accuracy: 0.9852573018080668\n",
    "\n",
    "Producer Accuracy: [0.9933407325194229], [0.9607623318385651]\n",
    "\n",
    "Kappa Accuracy: 0.9602336703632474"
   ]
  },
  {
   "cell_type": "markdown",
   "id": "657b58a9-3e96-4445-9111-d4f3ce445b62",
   "metadata": {},
   "source": [
    "## 4. Conclusion\n",
    "From the above discussion it is clear that random forest algorithm is the best one for boro rice area mapping as it produces almost 98.5% accuracy in our experiment. We can utilize random forest algorithm for boro rice area mapping in Bangladesh. Here we used Sentinel-2 image of 10 meter resolution which also plays important role in good output for boro rice area mapping. However there is scope to work with other models like SVM, ANN etc. and compare their outputs. There is also future scope to work with Sentinel-2 data and random forest algorithm for crop type mapping for Bangladesh. Again this methodology can be tested for other rice season like aus and aman in Bangladesh."
   ]
  }
 ],
 "metadata": {
  "kernelspec": {
   "display_name": "Python",
   "language": "python",
   "name": "python3"
  },
  "language_info": {
   "codemirror_mode": {
    "name": "ipython",
    "version": 3
   },
   "file_extension": ".py",
   "mimetype": "text/x-python",
   "name": "python",
   "nbconvert_exporter": "python",
   "pygments_lexer": "ipython3",
   "version": "3.8.10"
  }
 },
 "nbformat": 4,
 "nbformat_minor": 5
}
